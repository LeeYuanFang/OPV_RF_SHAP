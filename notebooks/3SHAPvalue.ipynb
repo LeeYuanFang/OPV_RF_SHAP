{
 "cells": [
  {
   "cell_type": "markdown",
   "id": "2ab38106-26db-43b5-a555-b903be8fb4d7",
   "metadata": {},
   "source": [
    "# SHAP value"
   ]
  },
  {
   "cell_type": "code",
   "execution_count": null,
   "id": "e13c72fe-a10a-4107-8c2c-419caf3b5c2b",
   "metadata": {},
   "outputs": [],
   "source": [
    "# Data, Plot and Statistics\n",
    "import os\n",
    "import shutil\n",
    "import joblib\n",
    "import numpy as np\n",
    "import pandas as pd\n",
    "import matplotlib.pyplot as plt\n",
    "from matplotlib.ticker import AutoMinorLocator, MaxNLocator\n",
    "import seaborn as sns\n",
    "import statsmodels.api as sm\n",
    "import six\n",
    "from sklearn.model_selection import train_test_split\n",
    "# Descripotr Transformation\n",
    "from rdkit import Chem\n",
    "from rdkit.Chem import AllChem\n",
    "import codecs\n",
    "# Machine Leaning\n",
    "from sklearn import preprocessing\n",
    "from sklearn.metrics import mean_squared_error\n",
    "from sklearn.tree import DecisionTreeRegressor, plot_tree\n",
    "from sklearn.ensemble import RandomForestRegressor\n",
    "from sklearn.model_selection import cross_val_score\n",
    "from sklearn.model_selection import GridSearchCV, RandomizedSearchCV\n",
    "import shap"
   ]
  },
  {
   "cell_type": "code",
   "execution_count": null,
   "id": "d8cbfd89-b753-495e-bb24-7558b0a8da75",
   "metadata": {},
   "outputs": [],
   "source": [
    "MF = np.load('MF.npy')"
   ]
  },
  {
   "cell_type": "markdown",
   "id": "87d24de8-5091-463d-8386-92ba12887f9f",
   "metadata": {},
   "source": [
    "#### PCE"
   ]
  },
  {
   "cell_type": "code",
   "execution_count": null,
   "id": "4cd7d539-89a9-419d-9173-9224f829d0e1",
   "metadata": {},
   "outputs": [],
   "source": [
    "pce_model = joblib.load('./models/RF_MF_PCE/RF_MF_PCE.pkl')"
   ]
  },
  {
   "cell_type": "code",
   "execution_count": null,
   "id": "f0823eeb-6475-409d-aa5e-a38770332128",
   "metadata": {},
   "outputs": [],
   "source": [
    "pce_explainer = shap.Explainer(pce_model, MF, feature_perturbation='interventional')"
   ]
  },
  {
   "cell_type": "code",
   "execution_count": null,
   "id": "77ee8cd5-98c9-44f1-af48-dfe72dc4f220",
   "metadata": {},
   "outputs": [],
   "source": [
    "pce_shap_values = pce_explainer.shap_values(MF)"
   ]
  },
  {
   "cell_type": "code",
   "execution_count": null,
   "id": "44e4e184-90f0-4f2d-9556-3f3a7a2dda13",
   "metadata": {},
   "outputs": [],
   "source": [
    "np.save('pce_shap.npy', pce_shap_values)"
   ]
  },
  {
   "cell_type": "code",
   "execution_count": null,
   "id": "937944f7-6cb1-422e-97a5-d4ed6781ca38",
   "metadata": {},
   "outputs": [],
   "source": [
    "shap.summary_plot(pce_shap_values, MF, max_display=20)"
   ]
  },
  {
   "cell_type": "markdown",
   "id": "074a27eb-a676-402f-ad9f-f8f7eb4da452",
   "metadata": {},
   "source": [
    "#### Jsc"
   ]
  },
  {
   "cell_type": "code",
   "execution_count": null,
   "id": "19fcdccb-0b37-4d8f-9305-f77502fea6f1",
   "metadata": {},
   "outputs": [],
   "source": [
    "jsc_model = joblib.load('./models/RF_MF_Jsc/RF_MF_Jsc.pkl')"
   ]
  },
  {
   "cell_type": "code",
   "execution_count": null,
   "id": "eafcf74d-a494-4ba1-a0d4-5dceed2ee00d",
   "metadata": {},
   "outputs": [],
   "source": [
    "jsc_explainer = shap.Explainer(jsc_model, MF, feature_perturbation='interventional')"
   ]
  },
  {
   "cell_type": "code",
   "execution_count": null,
   "id": "6c6f2c69-4bf4-4c45-ba3f-96a13fa971b6",
   "metadata": {},
   "outputs": [],
   "source": [
    "jsc_shap_values = jsc_explainer.shap_values(MF)"
   ]
  },
  {
   "cell_type": "code",
   "execution_count": null,
   "id": "ba641435-5319-4b5f-a418-38198961ee6e",
   "metadata": {},
   "outputs": [],
   "source": [
    "np.save('jsc_shap.npy', jsc_shap_values)"
   ]
  },
  {
   "cell_type": "code",
   "execution_count": null,
   "id": "cfc964ee-fe0f-46bc-b36c-7c405eb3a468",
   "metadata": {},
   "outputs": [],
   "source": [
    "shap.summary_plot(jsc_shap_values, MF, max_display=20)"
   ]
  },
  {
   "cell_type": "markdown",
   "id": "ea701927-8baf-4eed-a959-5ee8f12e17fc",
   "metadata": {},
   "source": [
    "#### Voc"
   ]
  },
  {
   "cell_type": "code",
   "execution_count": null,
   "id": "735b54f7-a7a4-484a-8c95-8f6571fda378",
   "metadata": {},
   "outputs": [],
   "source": [
    "voc_model = joblib.load('./models/RF_MF_Voc/RF_MF_Voc.pkl')"
   ]
  },
  {
   "cell_type": "code",
   "execution_count": null,
   "id": "f71d9c1e-60de-4f62-baac-68a82361f785",
   "metadata": {},
   "outputs": [],
   "source": [
    "voc_explainer = shap.Explainer(voc_model, MF, feature_perturbation='interventional')"
   ]
  },
  {
   "cell_type": "code",
   "execution_count": null,
   "id": "d54be5d9-bb42-4cf3-96c0-2a508603b039",
   "metadata": {},
   "outputs": [],
   "source": [
    "voc_shap_values = voc_explainer.shap_values(MF)"
   ]
  },
  {
   "cell_type": "code",
   "execution_count": null,
   "id": "5169e527-e7c7-41f0-8c91-a2f8b91e2996",
   "metadata": {},
   "outputs": [],
   "source": [
    "np.save('voc_shap.npy', voc_shap_values)"
   ]
  },
  {
   "cell_type": "code",
   "execution_count": null,
   "id": "b522fce7-649c-4d5d-9840-14a8e27c464e",
   "metadata": {},
   "outputs": [],
   "source": [
    "shap.summary_plot(voc_shap_values, MF, max_display=20)"
   ]
  },
  {
   "cell_type": "markdown",
   "id": "13434223-b046-459f-ad56-fd3fec74d9ba",
   "metadata": {},
   "source": [
    "#### FF"
   ]
  },
  {
   "cell_type": "code",
   "execution_count": null,
   "id": "773cd165-669c-4d8b-bcf4-2653a7b1dbc4",
   "metadata": {},
   "outputs": [],
   "source": [
    "ff_model = joblib.load('./models/RF_MF_FF/RF_MF_FF.pkl')"
   ]
  },
  {
   "cell_type": "code",
   "execution_count": null,
   "id": "d1a4d790-47fe-4e83-a70c-35b046cac49d",
   "metadata": {},
   "outputs": [],
   "source": [
    "### model explanation\n",
    "ff_explainer = shap.Explainer(ff_model, MF, feature_perturbation='interventional')"
   ]
  },
  {
   "cell_type": "code",
   "execution_count": null,
   "id": "b51d3f7a-9904-4785-a69a-4eb7634ef554",
   "metadata": {},
   "outputs": [],
   "source": [
    "ff_shap_values = ff_explainer.shap_values(MF)"
   ]
  },
  {
   "cell_type": "code",
   "execution_count": null,
   "id": "e240ce72-e24f-4c06-936a-195787119fa5",
   "metadata": {},
   "outputs": [],
   "source": [
    "np.save('ff_shap.npy', ff_shap_values)"
   ]
  },
  {
   "cell_type": "code",
   "execution_count": null,
   "id": "bb2fbc69-4a61-4f80-89ce-b48c5389cca4",
   "metadata": {},
   "outputs": [],
   "source": [
    "shap.summary_plot(ff_shap_values, MF, max_display=20)"
   ]
  },
  {
   "cell_type": "markdown",
   "id": "21808b1c-12ec-4ebd-9ed7-3468e8ad11af",
   "metadata": {},
   "source": [
    "### energy level"
   ]
  },
  {
   "cell_type": "code",
   "execution_count": null,
   "id": "6ba81205-4237-4949-90a8-c606c48d3349",
   "metadata": {},
   "outputs": [],
   "source": [
    "donor_MF = np.load('donor_MF.npy')\n",
    "acceptor_MF = np.load('acceptor_MF.npy')"
   ]
  },
  {
   "cell_type": "code",
   "execution_count": null,
   "id": "7055a298-314c-4a8b-9bb3-74a6b14f3c4d",
   "metadata": {},
   "outputs": [],
   "source": [
    "names = ['RF_MF_Donor_HOMO','RF_MF_Donor_LUMO','RF_MF_Donor_Bandgap']\n",
    "for name in names:\n",
    "    model = joblib.load(f'./models/{name}/{name}.pkl')\n",
    "    explainer = shap.Explainer(model, donor_MF, feature_perturbation='interventional')\n",
    "    shap_value = explainer.shap_values(donor_MF)\n",
    "    np.save(f'{name}_shap.npy', shap_value)\n",
    "    shap.summary_plot(shap_value, donor_MF, max_display=20)"
   ]
  },
  {
   "cell_type": "code",
   "execution_count": null,
   "id": "dc84d3f5-b67a-4004-b617-00006e7ce1b4",
   "metadata": {
    "tags": []
   },
   "outputs": [],
   "source": [
    "names = ['RF_MF_Acceptor_HOMO','RF_MF_Acceptor_LUMO','RF_MF_Acceptor_Bandgap']\n",
    "for name in names:\n",
    "    model = joblib.load(f'./models/{name}/{name}.pkl')\n",
    "    explainer = shap.Explainer(model, acceptor_MF, feature_perturbation='interventional')\n",
    "    shap_value = explainer.shap_values(acceptor_MF)\n",
    "    np.save(f'{name}_shap.npy', shap_value)\n",
    "    shap.summary_plot(shap_value, acceptor_MF, max_display=20)"
   ]
  },
  {
   "cell_type": "markdown",
   "id": "d1224b23-dbc5-4139-adf3-be55210caf63",
   "metadata": {},
   "source": [
    "### Performance前50名SHAP圖"
   ]
  },
  {
   "cell_type": "code",
   "execution_count": null,
   "id": "27ec1cdc-fa41-419b-a6b3-d302d094db9b",
   "metadata": {
    "tags": []
   },
   "outputs": [],
   "source": [
    "shap_values = np.load('pce_shap.npy')\n",
    "x = np.load('MF.npy')\n",
    "\n",
    "plt.figure()\n",
    "shap.summary_plot(shap_values, x, max_display=30, show=False, color_bar=False, alpha=0.3)\n",
    "plt.savefig('./shap/pce_shap_plot_0.png', dpi=300, bbox_inches='tight')\n",
    "plt.close()"
   ]
  },
  {
   "cell_type": "code",
   "execution_count": null,
   "id": "a7c2b3a6-aecc-4141-bd82-e87546476146",
   "metadata": {},
   "outputs": [],
   "source": [
    "shap_values = np.load('jsc_shap.npy')\n",
    "x = np.load('MF.npy')\n",
    "\n",
    "plt.figure()\n",
    "shap.summary_plot(shap_values, x, max_display=30, show=False, color_bar=False, alpha=0.3)\n",
    "plt.savefig('./shap/jsc_shap_plot_0.png', dpi=300, bbox_inches='tight')\n",
    "plt.close()"
   ]
  },
  {
   "cell_type": "code",
   "execution_count": null,
   "id": "76bafaf8-2687-4831-bb7b-64be2c48d939",
   "metadata": {},
   "outputs": [],
   "source": [
    "shap_values = np.load('voc_shap.npy')\n",
    "x = np.load('MF.npy')\n",
    "\n",
    "plt.figure()\n",
    "shap.summary_plot(shap_values, x, max_display=30, show=False, color_bar=False, alpha=0.3)\n",
    "plt.savefig('./shap/voc_shap_plot_0.png', dpi=300, bbox_inches='tight')\n",
    "plt.close()"
   ]
  },
  {
   "cell_type": "code",
   "execution_count": null,
   "id": "7c7397dd-8142-4808-bf90-13a59262beb3",
   "metadata": {},
   "outputs": [],
   "source": [
    "shap_values = np.load('ff_shap.npy')\n",
    "x = np.load('MF.npy')\n",
    "\n",
    "plt.figure()\n",
    "shap.summary_plot(shap_values, x, max_display=30, show=False, color_bar=False, alpha=0.3)\n",
    "plt.savefig('./shap/ff_shap_plot_0.png', dpi=300, bbox_inches='tight')\n",
    "plt.close()"
   ]
  },
  {
   "cell_type": "code",
   "execution_count": null,
   "id": "ddd56090-14d8-4907-9ce8-6149d9d87774",
   "metadata": {},
   "outputs": [],
   "source": []
  },
  {
   "cell_type": "code",
   "execution_count": null,
   "id": "c347cf08-7068-4138-998d-6fb5f57340f4",
   "metadata": {},
   "outputs": [],
   "source": []
  }
 ],
 "metadata": {
  "kernelspec": {
   "display_name": "Python 3 (ipykernel)",
   "language": "python",
   "name": "python3"
  },
  "language_info": {
   "codemirror_mode": {
    "name": "ipython",
    "version": 3
   },
   "file_extension": ".py",
   "mimetype": "text/x-python",
   "name": "python",
   "nbconvert_exporter": "python",
   "pygments_lexer": "ipython3",
   "version": "3.7.16"
  }
 },
 "nbformat": 4,
 "nbformat_minor": 5
}
