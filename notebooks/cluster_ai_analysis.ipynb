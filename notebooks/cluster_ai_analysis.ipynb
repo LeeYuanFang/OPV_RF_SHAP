{
 "cells": [
  {
   "cell_type": "markdown",
   "id": "53d50557-eaf2-4f42-8204-095088cbbccd",
   "metadata": {},
   "source": [
    "# AI with clustered data"
   ]
  },
  {
   "cell_type": "code",
   "execution_count": null,
   "id": "c056f63c-1b31-44f1-a6d5-adefccd75d88",
   "metadata": {},
   "outputs": [],
   "source": [
    "def material_clustered_split_y6(MF, n_clusters, name, y6_labels, cluster_label=\"Predicted Cluster\"):\n",
    "    from sklearn.pipeline import Pipeline\n",
    "    from sklearn.preprocessing import MinMaxScaler\n",
    "    from sklearn.decomposition import PCA\n",
    "    from sklearn.cluster import KMeans\n",
    "    from sklearn.metrics import silhouette_score\n",
    "    import matplotlib.pyplot as plt\n",
    "    import seaborn as sns\n",
    "    import pandas as pd\n",
    "\n",
    "    # PCA + KMeans pipeline\n",
    "    preprocessor = Pipeline([\n",
    "        (\"scaler\", MinMaxScaler()),\n",
    "        (\"pca\", PCA(n_components=2, random_state=22))\n",
    "    ])\n",
    "    clusterer = Pipeline([\n",
    "        (\"kmeans\", KMeans(n_clusters=n_clusters, init=\"k-means++\", n_init=50, max_iter=500, random_state=22))\n",
    "    ])\n",
    "    pipe = Pipeline([\n",
    "        (\"preprocessor\", preprocessor),\n",
    "        (\"clusterer\", clusterer)\n",
    "    ])\n",
    "\n",
    "    pipe.fit(MF)\n",
    "    preprocessed_data = pipe[\"preprocessor\"].transform(MF)\n",
    "    predicted_labels = pipe[\"clusterer\"][\"kmeans\"].labels_\n",
    "    print(f'silhouette score: {silhouette_score(preprocessed_data, predicted_labels):.3f}')\n",
    "\n",
    "    # dataframe\n",
    "    pcadf = pd.DataFrame(preprocessed_data, columns=[\"component 1\", \"component 2\"])\n",
    "    pcadf[cluster_label] = predicted_labels\n",
    "    pcadf[\"Acceptor_Label\"] = y6_labels\n",
    "\n",
    "    sns.set_theme(style=\"white\")\n",
    "    font = {'family': 'Arial', 'weight': 'normal', 'size': 8}\n",
    "    plt.rc('font', **font)\n",
    "\n",
    "    for label in pcadf[\"Acceptor_Label\"].unique():\n",
    "        subset = pcadf[pcadf[\"Acceptor_Label\"] == label]\n",
    "        plt.figure(figsize=(6, 6))\n",
    "        sns.scatterplot(\n",
    "            x=\"component 1\", y=\"component 2\", s=40,\n",
    "            data=subset, hue=cluster_label, palette='tab10'\n",
    "        )\n",
    "        ax = plt.gca()\n",
    "        ax.grid(True)\n",
    "        ax.set_xticklabels([])\n",
    "        ax.set_yticklabels([])\n",
    "        for spine in ax.spines.values():\n",
    "            spine.set_visible(True)\n",
    "            spine.set_linewidth(1.5)\n",
    "        ax.tick_params(axis='both', which='major', length=7, width=1.25, direction='in')\n",
    "        legend = ax.get_legend()\n",
    "        ax.legend_.remove()\n",
    "        plt.xlabel(\"Component 1 (Acceptor-dominated)\")\n",
    "        plt.ylabel(\"Component 2 (Donor-dominated)\")\n",
    "        clean_label = label.replace(\" \", \"_\")\n",
    "        plt.savefig(f'./cluster/{name}_{clean_label}.png', bbox_inches='tight', dpi=600, facecolor='white')\n",
    "        plt.show()\n",
    "        \n",
    "        fig_leg = plt.figure(figsize=(1, 2))\n",
    "        plt.rc('font', **font)\n",
    "        ax_leg = fig_leg.add_subplot(111)\n",
    "        ax_leg.axis(\"off\")\n",
    "\n",
    "        new_leg = Legend(ax_leg, legend.legendHandles, [t.get_text() for t in legend.get_texts()],\n",
    "                         loc='center', frameon=False, handlelength=2, ncol=1)\n",
    "        ax_leg.add_artist(new_leg)\n",
    "\n",
    "        fig_leg.savefig(f'./cluster/{name}_{clean_label}_legend.png', dpi=600, bbox_inches='tight', facecolor='white')\n",
    "        plt.close(fig_leg)\n",
    "        \n",
    "    return pcadf\n"
   ]
  },
  {
   "cell_type": "code",
   "execution_count": null,
   "id": "15675bef-50d7-4186-8d3a-f0219c82073e",
   "metadata": {},
   "outputs": [],
   "source": [
    "def material_clustered_split_y6_fixed_full(MF, n_clusters, name, y6_labels, cluster_label=\"Predicted Cluster\"):\n",
    "    import pandas as pd\n",
    "    import matplotlib.pyplot as plt\n",
    "    import seaborn as sns\n",
    "    from matplotlib.legend import Legend\n",
    "    from sklearn.pipeline import Pipeline\n",
    "    from sklearn.preprocessing import MinMaxScaler\n",
    "    from sklearn.decomposition import PCA\n",
    "    from sklearn.cluster import KMeans\n",
    "    from sklearn.metrics import silhouette_score\n",
    "\n",
    "    # 固定顏色對應 palette（0~8 預設支援）\n",
    "    palette_fixed = {\n",
    "        0: \"#1f77b4\", 1: \"#ff7f0e\", 2: \"#2ca02c\", 3: \"#d62728\",\n",
    "        4: \"#9467bd\", 5: \"#8c564b\", 6: \"#e377c2\", 7: \"#7f7f7f\", 8: \"#bcbd22\"\n",
    "    }\n",
    "    marker_dict = {\n",
    "        0: 'o', 1: 'X', 2: 's', 3: 'P', 4: 'D',\n",
    "        5: 'd', 6: '^', 7: 'H', 8: '*'\n",
    "    }\n",
    "\n",
    "    pipe = Pipeline([\n",
    "        (\"scaler\", MinMaxScaler()),\n",
    "        (\"pca\", PCA(n_components=2, random_state=22)),\n",
    "        (\"cluster\", KMeans(n_clusters=n_clusters, init=\"k-means++\", n_init=50, max_iter=500, random_state=22))\n",
    "    ])\n",
    "    pc = pipe.named_steps[\"pca\"]\n",
    "    X_pca = pipe.named_steps[\"pca\"].fit_transform(pipe.named_steps[\"scaler\"].fit_transform(MF))\n",
    "    labels = pipe.named_steps[\"cluster\"].fit_predict(X_pca)\n",
    "    sil_score = silhouette_score(X_pca, labels)\n",
    "    print(f'Silhouette score: {sil_score:.3f}')\n",
    "\n",
    "    df = pd.DataFrame(X_pca, columns=[\"component 1\", \"component 2\"])\n",
    "    df[cluster_label] = labels\n",
    "    df[\"Acceptor_Label\"] = y6_labels\n",
    "\n",
    "    xlim = (df[\"component 1\"].min() - 0.5, df[\"component 1\"].max() + 0.5)\n",
    "    ylim = (df[\"component 2\"].min() - 0.5, df[\"component 2\"].max() + 0.5)\n",
    "\n",
    "    sns.set_theme(style=\"white\")\n",
    "    font = {'family': 'Arial', 'weight': 'normal', 'size': 8}\n",
    "    plt.rc('font', **font)\n",
    "\n",
    "    for label in df[\"Acceptor_Label\"].unique():\n",
    "        subset = df[df[\"Acceptor_Label\"] == label]\n",
    "        plt.figure(figsize=(6, 6))\n",
    "        ax = sns.scatterplot(\n",
    "            x=\"component 1\", y=\"component 2\",\n",
    "            data=subset, hue=cluster_label, style=cluster_label, palette=palette_fixed, markers=marker_dict, s=40\n",
    "        )\n",
    "        ax.grid(True)\n",
    "        ax.set_xlim(xlim)\n",
    "        ax.set_ylim(ylim)\n",
    "        ax.set_xticklabels([])\n",
    "        ax.set_yticklabels([])\n",
    "        for spine in ax.spines.values():\n",
    "            spine.set_visible(True)\n",
    "            spine.set_linewidth(1.5)\n",
    "        ax.tick_params(axis='both', which='major', length=7, width=1.25, direction='in')\n",
    "        legend = ax.get_legend()\n",
    "        ax.legend_.remove()\n",
    "        plt.xlabel(\"Component 1 (Acceptor-dominated)\")\n",
    "        plt.ylabel(\"Component 2 (Donor-dominated)\")\n",
    "        label_tag = label.replace(\" \", \"_\")\n",
    "        plt.savefig(f\"./cluster/{name}_{label_tag}.png\", bbox_inches='tight', dpi=600, facecolor='white')\n",
    "        plt.show()\n",
    "\n",
    "        fig_leg = plt.figure(figsize=(1.2, 2))\n",
    "        ax_leg = fig_leg.add_subplot(111)\n",
    "        ax_leg.axis(\"off\")\n",
    "        new_leg = Legend(ax_leg, legend.legendHandles, [t.get_text() for t in legend.get_texts()],\n",
    "                         loc='center', frameon=False, handlelength=2, ncol=1)\n",
    "        ax_leg.add_artist(new_leg)\n",
    "        fig_leg.savefig(f\"./cluster/{name}_{label_tag}_legend.png\", dpi=600, bbox_inches='tight', facecolor='white')\n",
    "        plt.close(fig_leg)\n",
    "\n",
    "    return df"
   ]
  },
  {
   "cell_type": "code",
   "execution_count": null,
   "id": "fe38a334-b14f-4f1a-b397-3e7298329e69",
   "metadata": {},
   "outputs": [],
   "source": [
    "import numpy as np\n",
    "import pandas as pd"
   ]
  },
  {
   "cell_type": "code",
   "execution_count": null,
   "id": "c36b7e47-12eb-4866-843d-f61b8127f14f",
   "metadata": {},
   "outputs": [],
   "source": [
    "def material_clustered_split_y6_fixed_full(MF, n_clusters, name, y6_labels, cluster_label=\"Predicted Cluster\"):\n",
    "    import pandas as pd\n",
    "    import matplotlib.pyplot as plt\n",
    "    import seaborn as sns\n",
    "    from matplotlib.legend import Legend\n",
    "    from sklearn.pipeline import Pipeline\n",
    "    from sklearn.preprocessing import MinMaxScaler\n",
    "    from sklearn.decomposition import PCA\n",
    "    from sklearn.cluster import KMeans\n",
    "    from sklearn.metrics import silhouette_score\n",
    "\n",
    "    palette_fixed = {\n",
    "        0: \"#1f77b4\", 1: \"#ff7f0e\", 2: \"#2ca02c\", 3: \"#d62728\",\n",
    "        4: \"#9467bd\", 5: \"#8c564b\", 6: \"#e377c2\", 7: \"#7f7f7f\", 8: \"#bcbd22\"\n",
    "    }\n",
    "\n",
    "    pipe = Pipeline([\n",
    "        (\"scaler\", MinMaxScaler()),\n",
    "        (\"pca\", PCA(n_components=2, random_state=22)),\n",
    "        (\"cluster\", KMeans(n_clusters=n_clusters, init=\"k-means++\", n_init=50, max_iter=500, random_state=22))\n",
    "    ])\n",
    "    pc = pipe.named_steps[\"pca\"]\n",
    "    X_pca = pipe.named_steps[\"pca\"].fit_transform(pipe.named_steps[\"scaler\"].fit_transform(MF))\n",
    "    labels = pipe.named_steps[\"cluster\"].fit_predict(X_pca)\n",
    "    sil_score = silhouette_score(X_pca, labels)\n",
    "    print(f'Silhouette score: {sil_score:.3f}')\n",
    "\n",
    "    df = pd.DataFrame(X_pca, columns=[\"component 1\", \"component 2\"])\n",
    "    df[cluster_label] = labels\n",
    "    df[\"Acceptor_Label\"] = y6_labels\n",
    "\n",
    "    xlim = (df[\"component 1\"].min() - 0.5, df[\"component 1\"].max() + 0.5)\n",
    "    ylim = (df[\"component 2\"].min() - 0.5, df[\"component 2\"].max() + 0.5)\n",
    "\n",
    "    sns.set_theme(style=\"white\")\n",
    "    font = {'family': 'Arial', 'weight': 'normal', 'size': 8}\n",
    "    plt.rc('font', **font)\n",
    "\n",
    "    for label in df[\"Acceptor_Label\"].unique():\n",
    "        subset = df[df[\"Acceptor_Label\"] == label]\n",
    "        plt.figure(figsize=(6, 6))\n",
    "        ax = sns.scatterplot(\n",
    "            x=\"component 1\", y=\"component 2\",\n",
    "            data=subset, hue=cluster_label, palette=palette_fixed, s=40\n",
    "        )\n",
    "        ax.grid(True)\n",
    "        ax.set_xlim(xlim)\n",
    "        ax.set_ylim(ylim)\n",
    "        ax.set_xticklabels([])\n",
    "        ax.set_yticklabels([])\n",
    "        for spine in ax.spines.values():\n",
    "            spine.set_visible(True)\n",
    "            spine.set_linewidth(1.5)\n",
    "        ax.tick_params(axis='both', which='major', length=7, width=1.25, direction='in')\n",
    "        legend = ax.get_legend()\n",
    "        ax.legend_.remove()\n",
    "        plt.xlabel(\"Component 1 (Acceptor-dominated)\")\n",
    "        plt.ylabel(\"Component 2 (Donor-dominated)\")\n",
    "        label_tag = label.replace(\" \", \"_\")\n",
    "        plt.savefig(f\"./cluster2/{name}_{label_tag}.png\", bbox_inches='tight', dpi=600, facecolor='white')\n",
    "        plt.show()\n",
    "\n",
    "        fig_leg = plt.figure(figsize=(1.2, 2))\n",
    "        ax_leg = fig_leg.add_subplot(111)\n",
    "        ax_leg.axis(\"off\")\n",
    "        new_leg = Legend(ax_leg, legend.legendHandles, [t.get_text() for t in legend.get_texts()],\n",
    "                         loc='center', frameon=False, handlelength=2, ncol=1)\n",
    "        ax_leg.add_artist(new_leg)\n",
    "        fig_leg.savefig(f\"./cluster2/{name}_{label_tag}_legend.png\", dpi=600, bbox_inches='tight', facecolor='white')\n",
    "        plt.close(fig_leg)\n",
    "\n",
    "    return df"
   ]
  },
  {
   "cell_type": "code",
   "execution_count": null,
   "id": "b8119e1c-c63f-4aae-88db-afd121e3d996",
   "metadata": {},
   "outputs": [],
   "source": [
    "MF = np.load(\"MF.npy\")\n",
    "df = pd.read_excel(\"y6_cat_or_database.xlsx\")\n",
    "y6_labels = df[\"Acceptor_Label\"].tolist()\n",
    "\n",
    "material_clustered_split_y6_fixed_full(\n",
    "    MF=MF[:, :8192],      \n",
    "    n_clusters=9,\n",
    "    name=\"Donor9_Y6fixed\",\n",
    "    y6_labels=y6_labels\n",
    ")"
   ]
  },
  {
   "cell_type": "code",
   "execution_count": null,
   "id": "3b4c2389-b3a8-4733-a846-72a0d17361c3",
   "metadata": {},
   "outputs": [],
   "source": [
    "material_clustered_split_y6_fixed_full(\n",
    "    MF=MF[:, 8192:],     \n",
    "    n_clusters=6,\n",
    "    name=\"Acceptor6_Y6fixed\",\n",
    "    y6_labels=y6_labels\n",
    ")"
   ]
  },
  {
   "cell_type": "code",
   "execution_count": null,
   "id": "567dba22-ba10-465f-9681-697f0811fc60",
   "metadata": {},
   "outputs": [],
   "source": [
    "material_clustered_split_y6_fixed_full(\n",
    "    MF=MF,          \n",
    "    n_clusters=7,\n",
    "    name=\"Device7_Y6fixed\",\n",
    "    y6_labels=y6_labels\n",
    ")"
   ]
  },
  {
   "cell_type": "code",
   "execution_count": null,
   "id": "4d01d277-f3eb-43c5-a4eb-5facc193e7ed",
   "metadata": {},
   "outputs": [],
   "source": [
    "MF = np.load(\"MF.npy\")\n",
    "df_y6 = pd.read_excel(\"y6_cat_database.xlsx\")\n",
    "y6_labels = df_y6[\"Acceptor_Label\"].tolist()\n",
    "\n",
    "material_clustered_split_y6(MF[:, :8192], n_clusters=9, name=\"Donor9_Y6split\", y6_labels=y6_labels)"
   ]
  },
  {
   "cell_type": "code",
   "execution_count": null,
   "id": "de251756-84af-4dd1-8db4-40d2ad1cf983",
   "metadata": {},
   "outputs": [],
   "source": [
    "material_clustered_split_y6(MF[:, 8192:], n_clusters=6, name=\"Acceptor6_Y6split\", y6_labels=y6_labels)"
   ]
  },
  {
   "cell_type": "code",
   "execution_count": null,
   "id": "5a042f14-5be0-49f4-ab77-a5bb0b9c1de8",
   "metadata": {},
   "outputs": [],
   "source": [
    "material_clustered_split_y6(MF, n_clusters=7, name=\"Device7_Y6split\", y6_labels=y6_labels)"
   ]
  },
  {
   "cell_type": "code",
   "execution_count": null,
   "id": "1dc9d65f-253d-491f-a82d-86de440728f0",
   "metadata": {},
   "outputs": [],
   "source": []
  },
  {
   "cell_type": "code",
   "execution_count": null,
   "id": "01874dfe-8eb5-4485-b22b-b524d57a67aa",
   "metadata": {
    "tags": []
   },
   "outputs": [],
   "source": [
    "# Data, Plot and Statistics\n",
    "import os\n",
    "import shutil\n",
    "import joblib\n",
    "import numpy as np\n",
    "import pandas as pd\n",
    "import matplotlib.pyplot as plt\n",
    "from matplotlib.ticker import AutoMinorLocator, MaxNLocator\n",
    "import seaborn as sns\n",
    "import statsmodels.api as sm\n",
    "import six\n",
    "from sklearn.model_selection import train_test_split\n",
    "# Descripotr Transformation\n",
    "from rdkit import Chem\n",
    "from rdkit.Chem import AllChem\n",
    "import cv2\n",
    "import codecs\n",
    "# Machine Leaning\n",
    "from sklearn import preprocessing\n",
    "from sklearn.metrics import mean_squared_error\n",
    "from sklearn.tree import DecisionTreeRegressor, plot_tree\n",
    "from sklearn.ensemble import RandomForestRegressor\n",
    "from sklearn.model_selection import cross_val_score\n",
    "from sklearn.model_selection import GridSearchCV, RandomizedSearchCV"
   ]
  },
  {
   "cell_type": "code",
   "execution_count": null,
   "id": "4189e33b-3435-4f3d-8bea-8cd85754b3af",
   "metadata": {},
   "outputs": [],
   "source": [
    "from sklearn.cluster import KMeans\n",
    "from sklearn.decomposition import PCA\n",
    "from sklearn.metrics import silhouette_score, adjusted_rand_score\n",
    "from sklearn.pipeline import Pipeline\n",
    "from sklearn.preprocessing import LabelEncoder, MinMaxScaler"
   ]
  },
  {
   "cell_type": "code",
   "execution_count": null,
   "id": "ded359d3-2003-4d63-ae09-02290d9426de",
   "metadata": {},
   "outputs": [],
   "source": [
    "read_PATH = './database/opv_ai_database_used.xlsx'\n",
    "file = pd.read_excel(read_PATH)\n",
    "file.head() # First 5 raws of raws of data"
   ]
  },
  {
   "cell_type": "code",
   "execution_count": null,
   "id": "41f04246-b5e4-44a7-9dad-e1f3766437c3",
   "metadata": {},
   "outputs": [],
   "source": [
    "def draw_save_table(data, col_width=3.0, row_height=0.625, font_size=14,\n",
    "                     header_color='#40466e', row_colors=['#f1f1f2', 'w'], edge_color='k',\n",
    "                     bbox=[0, 0, 1, 1], header_columns=0,\n",
    "                     ax=None, **kwargs):\n",
    "    if ax is None:\n",
    "        size = (np.array(data.shape[::-1]) + np.array([0, 1])) * np.array([col_width, row_height])\n",
    "        fig, ax = plt.subplots(figsize=size)\n",
    "        ax.axis('off')\n",
    "    mpl_table = ax.table(cellText=data.values, bbox=bbox, colLabels=data.columns, **kwargs)\n",
    "    mpl_table.auto_set_font_size(False)\n",
    "    mpl_table.set_fontsize(font_size)\n",
    "    for k, cell in six.iteritems(mpl_table._cells):\n",
    "        cell.set_edgecolor(edge_color)\n",
    "        if k[0] == 0 or k[1] < header_columns:\n",
    "            cell.set_text_props(weight='bold', color='w')\n",
    "            cell.set_facecolor(header_color)\n",
    "        else:\n",
    "            cell.set_facecolor(row_colors[k[0]%len(row_colors)])\n",
    "    return ax"
   ]
  },
  {
   "cell_type": "code",
   "execution_count": null,
   "id": "abffc1ec-99a4-4bd7-8715-4cbce1e87394",
   "metadata": {},
   "outputs": [],
   "source": [
    "### dropout the unused column\n",
    "raw_row = file.shape[0]\n",
    "raw_col = file.shape[1]\n",
    "print(f'Raw data, rows:{raw_row}, columns:{raw_col}')\n",
    "#file = file.drop(\"silence\", axis=1)\n",
    "#file = file.drop(\"ratio A/D\", axis=1)\n",
    "print(f'Data without unused columns, rows:{file.shape[0]}, columns:{file.shape[1]}')\n",
    "### dropout the raw with blank data (N/A)\n",
    "file = pd.DataFrame(file)\n",
    "file = file.dropna()\n",
    "final_row = file.shape[0]\n",
    "final_col = file.shape[1]\n",
    "print(f'Final data (real input), rows:{final_row}, columns:{final_col}')\n",
    "### table layout\n",
    "dictionary = {'Data':['Raw','Final'],\n",
    "              'Rows':[raw_row, final_row],\n",
    "              'Columns':[raw_col,final_col]}\n",
    "df_stat = pd.DataFrame(dictionary)\n",
    "draw_save_table(df_stat, header_columns=0, col_width=2.0)"
   ]
  },
  {
   "cell_type": "code",
   "execution_count": null,
   "id": "c30bcd6d-0965-42bb-9f62-e064709cc869",
   "metadata": {},
   "outputs": [],
   "source": [
    "file.info() # check data in each column is in the right form"
   ]
  },
  {
   "cell_type": "code",
   "execution_count": null,
   "id": "927a5acb-80e3-4f25-a119-55250f94ad5e",
   "metadata": {},
   "outputs": [],
   "source": [
    "i = file.shape[0]\n",
    "index = np.array(file['Index']).reshape(i,)\n",
    "### Donor material\n",
    "donor_name = np.array(file['Donor']).reshape(i,)\n",
    "donor_smiles = np.array(file['Donor SMILES']).reshape(i,)\n",
    "donor_homo = np.array(file['HOMO of Donor (eV)']).reshape(i,)\n",
    "donor_lumo = np.array(file['LUMO of Donor (eV)']).reshape(i,)\n",
    "donor_bandgap = np.array(file['Bandgap of Donor (eV)']).reshape(i,)\n",
    "### Acceptor material\n",
    "acceptor_name = np.array(file['Acceptor']).reshape(i,)\n",
    "acceptor_smiles = np.array(file['Acceptor SMILES']).reshape(i,)\n",
    "acceptor_homo = np.array(file['HOMO of Acceptor (eV)']).reshape(i,)\n",
    "acceptor_lumo = np.array(file['LUMO of Acceptor (eV)']).reshape(i,)\n",
    "acceptor_bandgap = np.array(file['Bandgap of Acceptor (eV)']).reshape(i,)\n",
    "\n",
    "homo_offset = donor_homo-acceptor_homo\n",
    "lumo_offset = donor_lumo-acceptor_lumo\n",
    "\n",
    "### Device performance\n",
    "pce = np.array(file['PCE (%)']).reshape(i,)\n",
    "voc = np.array(file['Voc (V)']).reshape(i,)\n",
    "jsc = np.array(file['Jsc (mAcm-2)']).reshape(i,)\n",
    "ff = np.array(file['FF']).reshape(i,)"
   ]
  },
  {
   "cell_type": "code",
   "execution_count": null,
   "id": "2b0ef373-c461-4544-bad5-32b3f86210be",
   "metadata": {},
   "outputs": [],
   "source": [
    "radius = 5\n",
    "number_of_bits = 8192"
   ]
  },
  {
   "cell_type": "code",
   "execution_count": null,
   "id": "8dd94251-ae1c-45d2-b378-b6760c411786",
   "metadata": {},
   "outputs": [],
   "source": [
    "def MF_transfer(smiles):\n",
    "    bi = {}\n",
    "    MF = []\n",
    "    for i, each_smiles in enumerate(smiles):\n",
    "        try:\n",
    "            mol = Chem.MolFromSmiles(each_smiles)\n",
    "            fp=AllChem.GetMorganFingerprintAsBitVect(mol, radius, nBits=number_of_bits, bitInfo=bi)\n",
    "            fp_arr = np.array(fp)\n",
    "            MF.append(fp_arr)\n",
    "        except:\n",
    "            print(f'error smiles index: {index[i]}')\n",
    "    MF = np.array(MF)\n",
    "    return MF"
   ]
  },
  {
   "cell_type": "code",
   "execution_count": null,
   "id": "279351b2-f066-4cc4-b0d4-f188bf6e8e78",
   "metadata": {},
   "outputs": [],
   "source": [
    "donor_MF = MF_transfer(donor_smiles)\n",
    "acceptor_MF = MF_transfer(acceptor_smiles)\n",
    "MF = np.hstack((donor_MF,acceptor_MF))\n",
    "print(MF.shape)"
   ]
  },
  {
   "cell_type": "code",
   "execution_count": null,
   "id": "d5c9ce61-8a7e-43a3-9a8d-06910a1eb857",
   "metadata": {},
   "outputs": [],
   "source": [
    "donor_MF = np.load('./donor_MF.npy')\n",
    "acceptor_MF = np.load('./acceptor_MF.npy')\n",
    "MF = np.load('./MF.npy')"
   ]
  },
  {
   "cell_type": "code",
   "execution_count": null,
   "id": "f73e198b-1c2c-461e-ac6d-0287048672e4",
   "metadata": {},
   "outputs": [],
   "source": [
    "from kneed import KneeLocator"
   ]
  },
  {
   "cell_type": "code",
   "execution_count": null,
   "id": "4a0434a3-5f25-4cef-948d-043e04a8abcf",
   "metadata": {},
   "outputs": [],
   "source": [
    "def cluster_test_sil(MF, test_range, name):\n",
    "    sse = []\n",
    "    for k in test_range:\n",
    "        kmeans = KMeans(n_clusters=k, random_state=0, n_init=10)\n",
    "        kmeans.fit(MF)\n",
    "        sse.append(kmeans.inertia_)\n",
    "    plt.style.use('fivethirtyeight')\n",
    "    plt.plot(test_range, sse)\n",
    "    plt.xticks(test_range)\n",
    "    plt.xlabel('Number of Clusters')\n",
    "    plt.ylabel('SSE')\n",
    "    plt.savefig(f'./cluster/{name}_cluster_number_test.jpg', bbox_inches='tight')\n",
    "    plt.show()\n",
    "    kl = KneeLocator(test_range, sse, curve='convex', direction='decreasing')\n",
    "    print(f'suggested cluster number:{kl.elbow}')"
   ]
  },
  {
   "cell_type": "code",
   "execution_count": null,
   "id": "96180b73-c79e-4c24-bf89-b104e1e5ed22",
   "metadata": {},
   "outputs": [],
   "source": [
    "def cluster_test(x, test_range, name):\n",
    "    sse = []\n",
    "    silhouette_avg = []\n",
    "    for k in test_range:\n",
    "        kmeans = KMeans(n_clusters=k, random_state=0, n_init=10)\n",
    "        kmeans_fit = kmeans.fit(x)\n",
    "        sse.append(kmeans.inertia_)\n",
    "        silhouette_avg.append(silhouette_score(x, kmeans_fit.labels_))\n",
    "    plt.style.use('fivethirtyeight')\n",
    "    plt.plot(test_range, sse)\n",
    "    plt.xticks(test_range)\n",
    "    plt.xlabel('Number of Clusters')\n",
    "    plt.ylabel('SSE')\n",
    "    plt.savefig(f'./cluster/{name}_cluster_number_test.jpg', bbox_inches='tight')\n",
    "    plt.show()\n",
    "    plt.style.use('fivethirtyeight')\n",
    "    plt.plot(test_range, silhouette_avg)\n",
    "    plt.xticks(test_range)\n",
    "    plt.xlabel('Number of Clusters')\n",
    "    plt.ylabel('silhouette score')\n",
    "    plt.savefig(f'./cluster/{name}_cluster_number_test_sil.jpg', bbox_inches='tight')\n",
    "    plt.show()\n",
    "    kl_sse = KneeLocator(test_range, sse, curve='convex', direction='decreasing')\n",
    "    kl_sil_in = KneeLocator(test_range, silhouette_avg, curve='concave', direction='increasing')\n",
    "    kl_sil_de = KneeLocator(test_range, silhouette_avg, curve='convex', direction='decreasing')\n",
    "    print(f'suggested cluster number (sse):{kl_sse.elbow}')\n",
    "    print(f'suggested cluster number (sil_increasing):{kl_sil_in.elbow}')\n",
    "    print(f'suggested cluster number (sil_decreasing):{kl_sil_de.elbow}')"
   ]
  },
  {
   "cell_type": "code",
   "execution_count": null,
   "id": "2246a5bc-e259-4734-b629-4276c01dafdf",
   "metadata": {},
   "outputs": [],
   "source": [
    "cluster_test(MF, range(2,31), 'Device')"
   ]
  },
  {
   "cell_type": "code",
   "execution_count": null,
   "id": "042773c8-a3e7-4788-8d92-4015f102e54a",
   "metadata": {},
   "outputs": [],
   "source": [
    "cluster_test(donor_MF, range(2,31), 'Donor')"
   ]
  },
  {
   "cell_type": "code",
   "execution_count": null,
   "id": "c0b6f397-8da3-4bb6-b209-525079f468e0",
   "metadata": {},
   "outputs": [],
   "source": [
    "cluster_test(acceptor_MF, range(2,31), 'Acceptor')"
   ]
  },
  {
   "cell_type": "code",
   "execution_count": null,
   "id": "c365d262-3330-4d7b-8d70-aa1ebaf31afb",
   "metadata": {},
   "outputs": [],
   "source": [
    "from matplotlib.legend import Legend"
   ]
  },
  {
   "cell_type": "code",
   "execution_count": null,
   "id": "273118ba-51da-4e66-8680-247057e2fbcf",
   "metadata": {},
   "outputs": [],
   "source": [
    "def material_clustered(MF, n_clusters, name):\n",
    "    preprocessor = Pipeline([(\"scaler\", MinMaxScaler()),(\"pca\", PCA(n_components=2, random_state=22))])\n",
    "    clusterer = Pipeline([(\"kmeans\",KMeans(n_clusters=n_clusters,init=\"k-means++\",n_init=50,max_iter=500,random_state=22))])\n",
    "    pipe = Pipeline([(\"preprocessor\", preprocessor),(\"clusterer\", clusterer)])\n",
    "    \n",
    "    pipe.fit(MF)\n",
    "    preprocessed_data = pipe[\"preprocessor\"].transform(MF)\n",
    "    predicted_labels = pipe[\"clusterer\"][\"kmeans\"].labels_\n",
    "    print(f'silhouette score:{silhouette_score(preprocessed_data, predicted_labels)}')\n",
    "    \n",
    "    pcadf = pd.DataFrame(pipe[\"preprocessor\"].transform(MF),columns=[\"component 1\", \"component 2\"])\n",
    "    pcadf[\"Predicted Cluster\"] = pipe[\"clusterer\"][\"kmeans\"].labels_\n",
    "\n",
    "    sns.set_theme(style=\"white\")\n",
    "    plt.figure(figsize=(6, 6))\n",
    "    font = {'family': 'Arial', 'weight': 'normal', 'size': 8}\n",
    "    plt.rc('font', **font)\n",
    "    scat = sns.scatterplot(x=\"component 1\",y=\"component 2\",s=40,data=pcadf,hue=\"Predicted Cluster\", style=\"Predicted Cluster\", palette='tab10')\n",
    "    \n",
    "    ax = plt.gca()\n",
    "    ax.grid(True)  # 關閉格線\n",
    "    \n",
    "    ax.set_xticklabels([])\n",
    "    ax.set_yticklabels([])\n",
    "    legend = ax.get_legend()\n",
    "    ax.legend_.remove()\n",
    "    \n",
    "    for spine in ax.spines.values():\n",
    "        spine.set_visible(True)\n",
    "        spine.set_linewidth(1.5)\n",
    "    ax.tick_params(axis='both', which='major', length=7, width=1.25, direction='in')\n",
    "    #plt.legend(bbox_to_anchor=(1.02, 1),loc='upper left',borderaxespad=0.,frameon=False,title='Predicted Cluster')\n",
    "    \n",
    "    plt.xlabel(\"Component 1 (Acceptor-dominated)\")\n",
    "    plt.ylabel(\"Component 2 (Donor-dominated)\")\n",
    "\n",
    "    plt.savefig(f'./cluster/{name}.png', bbox_inches='tight', dpi=600, facecolor='white')\n",
    "    plt.show()\n",
    "    \n",
    "    # 抽出原 legend\n",
    "    \n",
    "\n",
    "    # 建立新 figure 專門放 legend\n",
    "    fig_leg = plt.figure(figsize=(1, 2))  # 可調整大小\n",
    "    plt.rc('font', **font)\n",
    "    ax_leg = fig_leg.add_subplot(111)\n",
    "    ax_leg.axis(\"off\")\n",
    "\n",
    "    # 複製原 legend 到新圖中\n",
    "    new_leg = Legend(ax_leg, legend.legendHandles, [t.get_text() for t in legend.get_texts()],\n",
    "                     loc='center', frameon=False, handlelength=2, ncol=1)\n",
    "    ax_leg.add_artist(new_leg)\n",
    "\n",
    "    # 儲存圖像\n",
    "    fig_leg.savefig(f'./cluster/{name}_legend.png', dpi=600, bbox_inches='tight', facecolor='white')\n",
    "    plt.close(fig_leg)\n",
    "    return pcadf"
   ]
  },
  {
   "cell_type": "code",
   "execution_count": null,
   "id": "cbe8567b-7b00-4148-b835-a029ac0a2168",
   "metadata": {},
   "outputs": [],
   "source": [
    "device_cluster = material_clustered(MF, 7, 'Device7')"
   ]
  },
  {
   "cell_type": "code",
   "execution_count": null,
   "id": "be788959-bba6-4384-8904-c246714a323b",
   "metadata": {},
   "outputs": [],
   "source": [
    "device_cluster"
   ]
  },
  {
   "cell_type": "code",
   "execution_count": null,
   "id": "823500de-c4ca-4d14-ae4d-2e75b063bf30",
   "metadata": {
    "tags": []
   },
   "outputs": [],
   "source": [
    "display(device_cluster.value_counts('Predicted Cluster'))"
   ]
  },
  {
   "cell_type": "code",
   "execution_count": null,
   "id": "6cba0bc6-c1fa-4922-adfc-de922ddb9b7a",
   "metadata": {},
   "outputs": [],
   "source": [
    "donor_cluster = material_clustered(donor_MF, 9, 'Donor9')"
   ]
  },
  {
   "cell_type": "code",
   "execution_count": null,
   "id": "d95615c3-9957-45c2-827d-af6563a90790",
   "metadata": {},
   "outputs": [],
   "source": [
    "display(donor_cluster.value_counts('Predicted Cluster'))"
   ]
  },
  {
   "cell_type": "code",
   "execution_count": null,
   "id": "6e2e812b-4ce7-4804-8ec8-2bf22ab4f478",
   "metadata": {},
   "outputs": [],
   "source": [
    "acceptor_cluster = material_clustered(acceptor_MF, 6, 'Acceptor6')"
   ]
  },
  {
   "cell_type": "code",
   "execution_count": null,
   "id": "d8f3907a-b9c8-4242-96e5-86021ab18d37",
   "metadata": {},
   "outputs": [],
   "source": [
    "display(acceptor_cluster.value_counts('Predicted Cluster'))"
   ]
  },
  {
   "cell_type": "code",
   "execution_count": null,
   "id": "06552f00-bace-443b-9e70-f9ec1705ac7a",
   "metadata": {},
   "outputs": [],
   "source": [
    "device_c = device_cluster['predicted_cluster']\n",
    "donor_c = donor_cluster['predicted_cluster']\n",
    "acceptor_c = acceptor_cluster['predicted_cluster']\n",
    "\n",
    "file['Device cluster'] = device_c.tolist()\n",
    "file['Donor cluster'] = donor_c.tolist()\n",
    "file['Acceptor cluster'] = acceptor_c.tolist()"
   ]
  },
  {
   "cell_type": "code",
   "execution_count": null,
   "id": "4c8a91cb-94dd-43e0-9ed1-f5019b0baad3",
   "metadata": {},
   "outputs": [],
   "source": [
    "file.to_excel('./clustered_opv_ai_database_used.xlsx')"
   ]
  },
  {
   "cell_type": "code",
   "execution_count": null,
   "id": "20e68be5-64f0-46bf-99fe-e40e1519741d",
   "metadata": {},
   "outputs": [],
   "source": [
    "E_Voc = acceptor_lumo - donor_homo"
   ]
  },
  {
   "cell_type": "code",
   "execution_count": null,
   "id": "47f9868b-e140-4a49-baaf-eff99e52ed93",
   "metadata": {},
   "outputs": [],
   "source": [
    "df = pd.DataFrame({'HOMO of Donor (eV)':donor_homo, 'LUMO of Donor (eV)':donor_lumo,\n",
    "                   'Bandgape of Donor (eV)':donor_bandgap,\n",
    "                   'HOMO of Acceptor (eV)':acceptor_homo, 'LUMO of Acceptor (eV)':acceptor_lumo,\n",
    "                   'Bandgap of Acceptor (eV)':acceptor_bandgap,\n",
    "                   'HOMO offset (eV)':homo_offset, 'LUMO offset (eV)':lumo_offset,'E_Voc (eV)':E_Voc,\n",
    "                   'PCE (%)':pce, 'Voc (V)':voc, '$Jsc\\ (mAcm^{-2})$':jsc, 'FF':ff,\n",
    "                  'Device cluster':device_c, 'Donor cluster':donor_c, 'Acceptor cluster':acceptor_c})\n",
    "df_col_list = ['HOMO of Donor (eV)', 'LUMO of Donor (eV)', 'Bandgape of Donor (eV)', 'HOMO of Acceptor (eV)', 'LUMO of Acceptor (eV)',\n",
    "                   'Bandgap of Acceptor (eV)', 'HOMO offset (eV)', 'LUMO offset (eV)','E_Voc (eV)',\n",
    "                   'PCE (%)', 'Voc (V)', '$Jsc\\ (mAcm^{-2})$', 'FF']"
   ]
  },
  {
   "cell_type": "code",
   "execution_count": null,
   "id": "1dff3bdf-3192-4819-870d-2e12b1e1a3c1",
   "metadata": {
    "tags": []
   },
   "outputs": [],
   "source": [
    "for x_col in df_col_list:\n",
    "    for y_col in df_col_list:\n",
    "        for z_col in df_col_list:\n",
    "            if x_col==y_col or x_col==z_col or y_col==z_col:\n",
    "                pass\n",
    "            else:\n",
    "                x = df[x_col]\n",
    "                y = df[y_col]\n",
    "                z = df[z_col]\n",
    "                f, ax = plt.subplots()\n",
    "                points = ax.scatter(x, y, c=z, s=50, cmap='plasma')\n",
    "                f.colorbar(points)\n",
    "                plt.xlabel(x_col)\n",
    "                plt.ylabel(y_col)\n",
    "                plt.title(z_col)\n",
    "                plt.show()"
   ]
  },
  {
   "cell_type": "code",
   "execution_count": null,
   "id": "8417c475-5e3d-4d53-a4b3-e5403bf8dd19",
   "metadata": {},
   "outputs": [],
   "source": [
    "plt.style.use(\"default\")"
   ]
  },
  {
   "cell_type": "code",
   "execution_count": null,
   "id": "11bd76d6-bd15-4d70-9745-4dd68a7fb246",
   "metadata": {},
   "outputs": [],
   "source": [
    "from scipy.interpolate import griddata\n",
    "import matplotlib.colors as colors"
   ]
  },
  {
   "cell_type": "code",
   "execution_count": null,
   "id": "3cb356b2-91d0-4641-98fd-5c1b9f211b91",
   "metadata": {},
   "outputs": [],
   "source": [
    "direction = './statistics/gradient'\n",
    "if not os.path.exists(direction):\n",
    "    os.mkdir(direction)\n",
    "else:\n",
    "    shutil.rmtree(direction)\n",
    "    os.mkdir(direction)\n",
    "direction = './statistics/gradient/scatter'\n",
    "if not os.path.exists(direction):\n",
    "    os.mkdir(direction)\n",
    "else:\n",
    "    shutil.rmtree(direction)\n",
    "    os.mkdir(direction)\n",
    "direction = './statistics/gradient/contour'\n",
    "if not os.path.exists(direction):\n",
    "    os.mkdir(direction)\n",
    "else:\n",
    "    shutil.rmtree(direction)\n",
    "    os.mkdir(direction)"
   ]
  },
  {
   "cell_type": "code",
   "execution_count": null,
   "id": "72bea393-f48b-479d-b5e1-bd28f1408e40",
   "metadata": {},
   "outputs": [],
   "source": [
    "def grad_scatter(x,y,z,name):\n",
    "    f, ax = plt.subplots()\n",
    "    points = ax.scatter(x, y, c=z, s=50, cmap='plasma')\n",
    "    f.colorbar(points)\n",
    "    plt.xlabel(x_col)\n",
    "    plt.ylabel(y_col)\n",
    "    plt.title(z_col)\n",
    "    plt.savefig(f'./statistics/gradient/scatter/scatter_{i}.jpg', bbox_inches='tight')\n",
    "    #plt.show()"
   ]
  },
  {
   "cell_type": "code",
   "execution_count": null,
   "id": "4b42c1c0-49d9-4d0d-9237-04e439bab72c",
   "metadata": {},
   "outputs": [],
   "source": [
    "def grad_contour(x,y,z, name):\n",
    "    xi = np.linspace(min(x), max(x), 35)\n",
    "    yi = np.linspace(min(y), max(y), 35)\n",
    "    X, Y = np.meshgrid(xi, yi)\n",
    "\n",
    "    Z = griddata((x, y), z, (X, Y), method='cubic')\n",
    "\n",
    "    bwr_grey = plt.cm.get_cmap('bwr')\n",
    "    newcolors = bwr_grey(np.linspace(0, 1, 256))\n",
    "    newcolors[(newcolors[:,0] > 0.9) & (newcolors[:,1] > 0.9) & (newcolors[:,2] > 0.9)] = (0.9, 0.9, 0.9, 1.0)\n",
    "    newcmp = colors.ListedColormap(newcolors)\n",
    "\n",
    "    fig, ax = plt.subplots(figsize=(7,6))\n",
    "    cs = ax.contour(X, Y, Z)\n",
    "    cf = ax.contourf(X, Y, Z, cmap=newcmp)\n",
    "    ax.clabel(cs, cs.levels, inline=True, fmt = '%1.1f', fontsize=10, colors='r')\n",
    "    fig.colorbar(cf, ax=ax, ticks=MaxNLocator(5))\n",
    "    plt.xlabel(x_col)\n",
    "    plt.ylabel(y_col)\n",
    "    plt.title(z_col)\n",
    "    plt.savefig(f'./statistics/gradient/contour/contour_{i}.jpg', bbox_inches='tight')\n",
    "    #plt.show()"
   ]
  },
  {
   "cell_type": "code",
   "execution_count": null,
   "id": "9cd420a7-582e-44df-9989-63b9a49bf68b",
   "metadata": {},
   "outputs": [],
   "source": [
    "i = 0\n",
    "for x_col in df_col_list:\n",
    "    for y_col in df_col_list:\n",
    "        for z_col in df_col_list:\n",
    "            if x_col==y_col or x_col==z_col or y_col==z_col:\n",
    "                pass\n",
    "            else:\n",
    "                i += 1\n",
    "                x = df[x_col]\n",
    "                y = df[y_col]\n",
    "                z = df[z_col]\n",
    "                grad_scatter(x,y,z, name=i)\n",
    "                next"
   ]
  },
  {
   "cell_type": "code",
   "execution_count": null,
   "id": "426b81da-a239-4bd4-a41f-4ee53971163f",
   "metadata": {},
   "outputs": [],
   "source": [
    "i = 0\n",
    "for x_col in df_col_list:\n",
    "    for y_col in df_col_list:\n",
    "        for z_col in df_col_list:\n",
    "            if x_col==y_col or x_col==z_col or y_col==z_col:\n",
    "                pass\n",
    "            else:\n",
    "                i += 1\n",
    "                x = df[x_col]\n",
    "                y = df[y_col]\n",
    "                z = df[z_col]\n",
    "                grad_contour(x,y,z, name=i)\n",
    "                next"
   ]
  },
  {
   "cell_type": "code",
   "execution_count": null,
   "id": "bb03e365-d596-4fdd-a57e-b686dd7e391a",
   "metadata": {},
   "outputs": [],
   "source": [
    "x = df[\"HOMO of Donor (eV)\"]\n",
    "y = df[\"LUMO of Donor (eV)\"]\n",
    "z = df[\"PCE (%)\"]\n",
    "\n",
    "\n",
    "xi = np.linspace(min(x), max(x), 35)\n",
    "yi = np.linspace(min(y), max(y), 35)\n",
    "X, Y = np.meshgrid(xi, yi)\n",
    "\n",
    "Z = griddata((x, y), z, (X, Y), method='cubic')\n",
    "\n",
    "bwr_grey = plt.cm.get_cmap('bwr')\n",
    "newcolors = bwr_grey(np.linspace(0, 1, 256))\n",
    "newcolors[128] = (0.9, 0.9, 0.9, 1.0)\n",
    "newcmp = colors.ListedColormap(newcolors)\n",
    "\n",
    "fig, ax = plt.subplots(figsize=(7,6))\n",
    "cs = ax.contour(X, Y, Z)\n",
    "cf = ax.contourf(X, Y, Z, cmap=newcmp)\n",
    "ax.clabel(cs, cs.levels, inline=True, fmt = '%1.1f', fontsize=10, colors='r')\n",
    "fig.colorbar(cf, ax=ax, ticks=MaxNLocator(5))\n",
    "plt.show()"
   ]
  },
  {
   "cell_type": "code",
   "execution_count": null,
   "id": "3c0ad738-6722-45f9-9dc1-ecc5a282befc",
   "metadata": {},
   "outputs": [],
   "source": []
  },
  {
   "cell_type": "code",
   "execution_count": null,
   "id": "3df2c014-6664-4926-a36f-15c172f3ecfa",
   "metadata": {},
   "outputs": [],
   "source": [
    "scat = sns.scatterplot(x=\"HOMO of Donor (eV)\",y=\"LUMO of Donor (eV)\",s=60,data=df,hue=\"PCE (%)\")"
   ]
  },
  {
   "cell_type": "code",
   "execution_count": null,
   "id": "68ec15bc-bd4c-402f-8701-7423239f9cb3",
   "metadata": {},
   "outputs": [],
   "source": [
    "scat = sns.scatterplot(x=\"Bandgape of Donor (eV)\",y=\"Bandgape of Acceptor (eV)\",s=60,data=df,hue=\"PCE (%)\")"
   ]
  },
  {
   "cell_type": "code",
   "execution_count": null,
   "id": "a5d781e5-910d-4875-b3db-c75ab4f6dff7",
   "metadata": {},
   "outputs": [],
   "source": [
    "scat = sns.scatterplot(x=\"E_Voc (eV)\",y='$Jsc\\ (mAcm^{-2})$',s=60,data=df,hue=\"Voc (V)\")"
   ]
  },
  {
   "cell_type": "code",
   "execution_count": null,
   "id": "249444ad-41ec-41ef-afb3-6c496b5c829c",
   "metadata": {},
   "outputs": [],
   "source": [
    "scat = sns.scatterplot(x=\"E_Voc (eV)\",y='$Jsc\\ (mAcm^{-2})$',s=60,data=df,hue=\"PCE (%)\")"
   ]
  },
  {
   "cell_type": "code",
   "execution_count": null,
   "id": "06eb5ac9-6a03-43d2-b048-cb0d60cca4e3",
   "metadata": {},
   "outputs": [],
   "source": [
    "scat = sns.scatterplot(x=\"Voc (V)\",y='$Jsc\\ (mAcm^{-2})$',s=60,data=df,hue=\"PCE (%)\")"
   ]
  },
  {
   "cell_type": "code",
   "execution_count": null,
   "id": "7eb9f221-901a-4002-b154-e59f77035424",
   "metadata": {},
   "outputs": [],
   "source": [
    "scat = sns.scatterplot(x=\"Voc (V)\",y='FF',s=60,data=df,hue=\"PCE (%)\")"
   ]
  },
  {
   "cell_type": "code",
   "execution_count": null,
   "id": "17bedff0-b22e-4c9d-8f08-800d513c2a17",
   "metadata": {},
   "outputs": [],
   "source": [
    "scat = sns.scatterplot(x=\"HOMO of Donor (eV)\",y=\"LUMO of Acceptor (eV)\",s=60,data=df,hue=\"PCE (%)\")"
   ]
  },
  {
   "cell_type": "code",
   "execution_count": null,
   "id": "bcb531f2-4c38-42ee-b70f-931c52fccfbb",
   "metadata": {},
   "outputs": [],
   "source": [
    "scat = sns.scatterplot(x=\"HOMO of Donor (eV)\",y=\"LUMO of Acceptor (eV)\",s=60,data=df,hue=\"Voc (V)\")"
   ]
  },
  {
   "cell_type": "code",
   "execution_count": null,
   "id": "ca69d353-5226-4d48-bbfd-fd2159e15db5",
   "metadata": {},
   "outputs": [],
   "source": [
    "scat = sns.scatterplot(x=\"HOMO of Donor (eV)\",y=\"Bandgap of Acceptor (eV)\",s=60,data=df,hue=\"PCE (%)\")"
   ]
  },
  {
   "cell_type": "code",
   "execution_count": null,
   "id": "dbcf2116-e60d-4547-921f-3cde9b5c37d9",
   "metadata": {},
   "outputs": [],
   "source": [
    "### correlation of each two parameters (properties and performacne) with heat color\n",
    "df = pd.DataFrame({'HOMO of Donor (eV)':donor_homo, 'LUMO of Donor (eV)':donor_lumo,\n",
    "                   'Bandgape of Donor (eV)':donor_bandgap,\n",
    "                   'HOMO of Acceptor (eV)':acceptor_homo, 'LUMO of Acceptor (eV)':acceptor_lumo,\n",
    "                   'Bandgape of Acceptor (eV)':acceptor_bandgap,\n",
    "                   'HOMO offset (eV)':homo_offset, 'LUMO offset (eV)':lumo_offset,\n",
    "                   'PCE (%)':pce, 'Voc (V)':voc, '$Jsc\\ (mAcm^{-2})$':jsc, 'FF':ff,\n",
    "                  'Device cluster' : device_c})\n",
    "### pair plot (scatter plot of each two parameters)\n",
    "plt.figure(figsize=(6, 6), dpi=300)\n",
    "plt.rc('font', family='Arial', size=8, weight='normal')\n",
    "fig = sns.pairplot(df, hue='Device cluster', palette='Set2')\n",
    "fig.savefig('./cluster/device_pairplot.png', bbox_inches='tight')\n",
    "plt.show()"
   ]
  },
  {
   "cell_type": "code",
   "execution_count": null,
   "id": "a68d9a09-f647-47f9-910d-51e1c6c853d7",
   "metadata": {},
   "outputs": [],
   "source": [
    "### correlation of each two parameters (properties and performacne) with heat color\n",
    "df = pd.DataFrame({'HOMO of Donor (eV)':donor_homo, 'LUMO of Donor (eV)':donor_lumo,\n",
    "                   'Bandgape of Donor (eV)':donor_bandgap,\n",
    "                   'HOMO of Acceptor (eV)':acceptor_homo, 'LUMO of Acceptor (eV)':acceptor_lumo,\n",
    "                   'Bandgape of Acceptor (eV)':acceptor_bandgap,\n",
    "                   'HOMO offset (eV)':homo_offset, 'LUMO offset (eV)':lumo_offset,\n",
    "                   'PCE (%)':pce, 'Voc (V)':voc, '$Jsc\\ (mAcm^{-2})$':jsc, 'FF':ff,\n",
    "                  'Donor cluster' : donor_c})\n",
    "### pair plot (scatter plot of each two parameters)\n",
    "plt.figure(figsize=(6, 6), dpi=300)\n",
    "plt.rc('font', family='Arial', size=8, weight='normal')\n",
    "fig = sns.pairplot(df, hue='Donor cluster', palette='Set2')\n",
    "fig.savefig('./cluster/donor_pairplot.png', bbox_inches='tight')\n",
    "plt.show()"
   ]
  },
  {
   "cell_type": "code",
   "execution_count": null,
   "id": "fe8c084f-8a6e-4c74-b4dc-e5b9217540ce",
   "metadata": {},
   "outputs": [],
   "source": [
    "### correlation of each two parameters (properties and performacne) with heat color\n",
    "df = pd.DataFrame({'HOMO of Donor (eV)':donor_homo, 'LUMO of Donor (eV)':donor_lumo,\n",
    "                   'Bandgape of Donor (eV)':donor_bandgap,\n",
    "                   'HOMO of Acceptor (eV)':acceptor_homo, 'LUMO of Acceptor (eV)':acceptor_lumo,\n",
    "                   'Bandgape of Acceptor (eV)':acceptor_bandgap,\n",
    "                   'HOMO offset (eV)':homo_offset, 'LUMO offset (eV)':lumo_offset,\n",
    "                   'PCE (%)':pce, 'Voc (V)':voc, '$Jsc\\ (mAcm^{-2})$':jsc, 'FF':ff,\n",
    "                  'Acceptor cluster' : acceptor_c})\n",
    "### pair plot (scatter plot of each two parameters)\n",
    "plt.figure(figsize=(6, 6), dpi=300)\n",
    "plt.rc('font', family='Arial', size=8, weight='normal')\n",
    "fig = sns.pairplot(df, hue='Acceptor cluster', palette='Set2')\n",
    "fig.savefig('./cluster/acceptor_pairplot.png', bbox_inches='tight')\n",
    "plt.show()"
   ]
  },
  {
   "cell_type": "code",
   "execution_count": null,
   "id": "f94553e2-c0fb-4af0-a658-a4c65e7ae80c",
   "metadata": {},
   "outputs": [],
   "source": [
    "pick_out_cluster = 2\n",
    "pick_out_list = []\n",
    "\n",
    "for i, c in enumerate(donor_c):\n",
    "    if c == pick_out_cluster:\n",
    "        pick_out_list.append(i)\n",
    "    else:\n",
    "        pass\n",
    "print(len(pick_out_list))"
   ]
  },
  {
   "cell_type": "code",
   "execution_count": null,
   "id": "57e3d787-d38a-469c-88df-e3143a36654e",
   "metadata": {},
   "outputs": [],
   "source": [
    "plt.style.use(\"default\")"
   ]
  },
  {
   "cell_type": "code",
   "execution_count": null,
   "id": "442afd2c-1426-4b75-a449-eb2b7435154e",
   "metadata": {},
   "outputs": [],
   "source": [
    "### scatter plot\n",
    "plt.figure(figsize=(2.5, 2.5), dpi=300)\n",
    "plt.rc('font', family='Arial', size=8, weight='normal')\n",
    "plt.scatter(jsc[pick_out_list], pce[pick_out_list], 1.5)\n",
    "### linear regression\n",
    "r = np.corrcoef(jsc[pick_out_list], pce[pick_out_list])[0,1].round(3)\n",
    "linear_model = np.polyfit(jsc, pce, 1)\n",
    "print(f'y = {round(linear_model[0], 4)} x + {round(linear_model[1], 4)}')\n",
    "linear_model_fn = np.poly1d(linear_model)\n",
    "x_s = np.arange(0,36,0.1)\n",
    "plt.plot(x_s, linear_model_fn(x_s), \"r--\", linewidth=1)\n",
    "### coordinate axis\n",
    "plt.xlim(0,35)\n",
    "plt.ylim(0,20)\n",
    "plt.xlabel('$Jsc\\ (mAcm^{-2})$', fontdict={'family':'Arial','size':8,'weight':'normal'})\n",
    "plt.ylabel('PCE (%)', fontdict={'family':'Arial','size':8,'weight':'normal'})\n",
    "### locator\n",
    "ax = plt.gca()\n",
    "ax.set_aspect('auto', adjustable='box', anchor='C')\n",
    "#ax.xaxis.set_major_locator(MaxNLocator(5))\n",
    "ax.yaxis.set_major_locator(MaxNLocator(4))\n",
    "ax.xaxis.set_minor_locator(AutoMinorLocator(5))\n",
    "ax.yaxis.set_minor_locator(AutoMinorLocator(5))\n",
    "for axis in ['top', 'bottom', 'left', 'right']:\n",
    "    ax.spines[axis].set_linewidth(1.5)\n",
    "ax.tick_params(axis='both', which='major', width=1.5, labelsize=8, direction='in')\n",
    "ax.tick_params(axis='both', which='minor', length=3, width=1, direction='in')\n",
    "print(r)\n",
    "#plt.savefig('./statistics/jsc_pce.png', bbox_inches='tight')"
   ]
  },
  {
   "cell_type": "code",
   "execution_count": null,
   "id": "e2748e34-8d2d-4a6a-8ec1-da1db7320311",
   "metadata": {},
   "outputs": [],
   "source": [
    "### scatter plot\n",
    "E_Voc = acceptor_lumo[pick_out_list] - donor_homo[pick_out_list]\n",
    "plt.figure(figsize=(2.5, 2.5), dpi=300)\n",
    "plt.rc('font', family='Arial', size=8, weight='normal')\n",
    "plt.scatter(E_Voc, voc[pick_out_list], 1.5)\n",
    "### linear regression\n",
    "r = np.corrcoef(E_Voc, voc[pick_out_list])[0,1].round(3)\n",
    "linear_model = np.polyfit(E_Voc, voc[pick_out_list], 1)\n",
    "print(f'y = {round(linear_model[0], 4)} x + {round(linear_model[1], 4)}')\n",
    "linear_model_fn = np.poly1d(linear_model)\n",
    "x_s = np.arange(0,4)\n",
    "plt.plot(x_s, linear_model_fn(x_s), \"r--\", linewidth=1)\n",
    "### coordinate axis\n",
    "plt.xlim(0,3)\n",
    "plt.ylim(0,1.4)\n",
    "plt.xlabel('Energy Difference between donor HOMO and acceptor LUMO (eV)', fontdict={'family':'Arial','size':8,'weight':'normal'})\n",
    "plt.ylabel('Voc (V)', fontdict={'family':'Arial','size':8,'weight':'normal'})\n",
    "### locator\n",
    "ax = plt.gca()\n",
    "ax.set_aspect('auto', adjustable='box', anchor='C')\n",
    "ax.xaxis.set_minor_locator(AutoMinorLocator(5))\n",
    "ax.yaxis.set_minor_locator(AutoMinorLocator(2))\n",
    "for axis in ['top', 'bottom', 'left', 'right']:\n",
    "    ax.spines[axis].set_linewidth(1.5)\n",
    "ax.tick_params(axis='both', which='major', width=1.5, labelsize=8, direction='in')\n",
    "ax.tick_params(axis='both', which='minor', length=3, width=1, direction='in')\n",
    "print(r)\n",
    "#plt.savefig('./statistics/energy_gap_voc.png', bbox_inches='tight')"
   ]
  },
  {
   "cell_type": "code",
   "execution_count": null,
   "id": "35667da0-70ff-4170-ba67-2ca52f1af01a",
   "metadata": {},
   "outputs": [],
   "source": [
    "for pick_out_cluster in range(6):\n",
    "    pick_out_list = []\n",
    "\n",
    "    for i, c in enumerate(acceptor_c):\n",
    "        if c == pick_out_cluster:\n",
    "            pick_out_list.append(i)\n",
    "        else:\n",
    "            pass\n",
    "    print(f'cluster number: {pick_out_cluster}')\n",
    "    print(len(pick_out_list))\n",
    "    \n",
    "    ### scatter plot\n",
    "    plt.figure(figsize=(2.5, 2.5), dpi=300)\n",
    "    plt.rc('font', family='Arial', size=8, weight='normal')\n",
    "    plt.scatter(jsc[pick_out_list], pce[pick_out_list], 1.5)\n",
    "    ### linear regression\n",
    "    r = np.corrcoef(jsc[pick_out_list], pce[pick_out_list])[0,1].round(3)\n",
    "    linear_model = np.polyfit(jsc, pce, 1)\n",
    "    print(f'y = {round(linear_model[0], 4)} x + {round(linear_model[1], 4)}')\n",
    "    linear_model_fn = np.poly1d(linear_model)\n",
    "    x_s = np.arange(0,36,0.1)\n",
    "    plt.plot(x_s, linear_model_fn(x_s), \"r--\", linewidth=1)\n",
    "    ### coordinate axis\n",
    "    plt.xlim(0,35)\n",
    "    plt.ylim(0,20)\n",
    "    plt.xlabel('$Jsc\\ (mAcm^{-2})$', fontdict={'family':'Arial','size':8,'weight':'normal'})\n",
    "    plt.ylabel('PCE (%)', fontdict={'family':'Arial','size':8,'weight':'normal'})\n",
    "    ### locator\n",
    "    ax = plt.gca()\n",
    "    ax.set_aspect('auto', adjustable='box', anchor='C')\n",
    "    #ax.xaxis.set_major_locator(MaxNLocator(5))\n",
    "    ax.yaxis.set_major_locator(MaxNLocator(4))\n",
    "    ax.xaxis.set_minor_locator(AutoMinorLocator(5))\n",
    "    ax.yaxis.set_minor_locator(AutoMinorLocator(5))\n",
    "    for axis in ['top', 'bottom', 'left', 'right']:\n",
    "        ax.spines[axis].set_linewidth(1.5)\n",
    "    ax.tick_params(axis='both', which='major', width=1.5, labelsize=8, direction='in')\n",
    "    ax.tick_params(axis='both', which='minor', length=3, width=1, direction='in')\n",
    "    print(r)\n",
    "    #plt.savefig('./statistics/jsc_pce.png', bbox_inches='tight')\n",
    "    \n",
    "    ### scatter plot\n",
    "    plt.figure(figsize=(2.5, 2.5), dpi=300)\n",
    "    plt.rc('font', family='Arial', size=8, weight='normal')\n",
    "    plt.scatter(ff[pick_out_list], pce[pick_out_list], 1.5)\n",
    "    ### linear regression\n",
    "    r = np.corrcoef(ff[pick_out_list], pce[pick_out_list])[0,1].round(3)\n",
    "    linear_model = np.polyfit(ff, pce, 1)\n",
    "    print(f'y = {round(linear_model[0], 4)} x + {round(linear_model[1], 4)}')\n",
    "    linear_model_fn = np.poly1d(linear_model)\n",
    "    x_s = np.arange(0,1.1,0.1)\n",
    "    plt.plot(x_s, linear_model_fn(x_s), \"r--\", linewidth=1)\n",
    "    ### coordinate axis\n",
    "    plt.xlim(0,1)\n",
    "    plt.ylim(0,20)\n",
    "    plt.xlabel('FF', fontdict={'family':'Arial','size':8,'weight':'normal'})\n",
    "    plt.ylabel('PCE (%)', fontdict={'family':'Arial','size':8,'weight':'normal'})\n",
    "    ### locator\n",
    "    ax = plt.gca()\n",
    "    ax.set_aspect('auto', adjustable='box', anchor='C')\n",
    "    #ax.xaxis.set_major_locator(MaxNLocator(5))\n",
    "    ax.yaxis.set_major_locator(MaxNLocator(4))\n",
    "    ax.xaxis.set_minor_locator(AutoMinorLocator(2))\n",
    "    ax.yaxis.set_minor_locator(AutoMinorLocator(5))\n",
    "    for axis in ['top', 'bottom', 'left', 'right']:\n",
    "        ax.spines[axis].set_linewidth(1.5)\n",
    "    ax.tick_params(axis='both', which='major', width=1.5, labelsize=8, direction='in')\n",
    "    ax.tick_params(axis='both', which='minor', length=3, width=1, direction='in')\n",
    "    print(r)\n",
    "    #plt.savefig('./statistics/ff_pce.png', bbox_inches='tight')\n",
    "    \n",
    "    ### scatter plot\n",
    "    E_Voc = acceptor_lumo[pick_out_list] - donor_homo[pick_out_list]\n",
    "    plt.figure(figsize=(2.5, 2.5), dpi=300)\n",
    "    plt.rc('font', family='Arial', size=8, weight='normal')\n",
    "    plt.scatter(E_Voc, voc[pick_out_list], 1.5)\n",
    "    ### linear regression\n",
    "    r = np.corrcoef(E_Voc, voc[pick_out_list])[0,1].round(3)\n",
    "    linear_model = np.polyfit(E_Voc, voc[pick_out_list], 1)\n",
    "    print(f'y = {round(linear_model[0], 4)} x + {round(linear_model[1], 4)}')\n",
    "    linear_model_fn = np.poly1d(linear_model)\n",
    "    x_s = np.arange(0,4)\n",
    "    plt.plot(x_s, linear_model_fn(x_s), \"r--\", linewidth=1)\n",
    "    ### coordinate axis\n",
    "    plt.xlim(0,3)\n",
    "    plt.ylim(0,1.4)\n",
    "    plt.xlabel('Energy Difference between donor HOMO and acceptor LUMO (eV)', fontdict={'family':'Arial','size':8,'weight':'normal'})\n",
    "    plt.ylabel('Voc (V)', fontdict={'family':'Arial','size':8,'weight':'normal'})\n",
    "    ### locator\n",
    "    ax = plt.gca()\n",
    "    ax.set_aspect('auto', adjustable='box', anchor='C')\n",
    "    ax.xaxis.set_minor_locator(AutoMinorLocator(5))\n",
    "    ax.yaxis.set_minor_locator(AutoMinorLocator(2))\n",
    "    for axis in ['top', 'bottom', 'left', 'right']:\n",
    "        ax.spines[axis].set_linewidth(1.5)\n",
    "    ax.tick_params(axis='both', which='major', width=1.5, labelsize=8, direction='in')\n",
    "    ax.tick_params(axis='both', which='minor', length=3, width=1, direction='in')\n",
    "    print(r)\n",
    "    #plt.savefig('./statistics/energy_gap_voc.png', bbox_inches='tight')"
   ]
  },
  {
   "cell_type": "code",
   "execution_count": null,
   "id": "7259904a-f56a-45ca-abc7-a9282245966e",
   "metadata": {},
   "outputs": [],
   "source": []
  },
  {
   "cell_type": "code",
   "execution_count": null,
   "id": "5e47b923-7713-45ce-b78b-4e0e878de908",
   "metadata": {},
   "outputs": [],
   "source": []
  },
  {
   "cell_type": "code",
   "execution_count": null,
   "id": "f0e1a49e-d4bc-420c-9aab-db3b97b02891",
   "metadata": {},
   "outputs": [],
   "source": []
  },
  {
   "cell_type": "code",
   "execution_count": null,
   "id": "61d6ef78-e3ea-40a4-b0c9-308e96554d3f",
   "metadata": {},
   "outputs": [],
   "source": []
  },
  {
   "cell_type": "code",
   "execution_count": null,
   "id": "a32034ca-4124-408e-af52-34208b04a330",
   "metadata": {},
   "outputs": [],
   "source": []
  },
  {
   "cell_type": "code",
   "execution_count": null,
   "id": "dd862d49-7c6a-4504-a8f1-a1f38348470d",
   "metadata": {},
   "outputs": [],
   "source": []
  },
  {
   "cell_type": "code",
   "execution_count": null,
   "id": "4436a08f-e0da-42a0-815c-ce0eec362ffc",
   "metadata": {},
   "outputs": [],
   "source": []
  },
  {
   "cell_type": "code",
   "execution_count": null,
   "id": "e58044fc-5de7-4c85-a962-21b51b0a8cf7",
   "metadata": {},
   "outputs": [],
   "source": []
  },
  {
   "cell_type": "code",
   "execution_count": null,
   "id": "61f3ffc9-2407-41ab-9b79-5b8f69dbec9f",
   "metadata": {},
   "outputs": [],
   "source": []
  },
  {
   "cell_type": "code",
   "execution_count": null,
   "id": "288c41ba-0175-4e8c-8af4-5730fb1a69ac",
   "metadata": {},
   "outputs": [],
   "source": []
  },
  {
   "cell_type": "code",
   "execution_count": null,
   "id": "bccc1076-d3e6-42e4-97f2-6c7afc3a9854",
   "metadata": {},
   "outputs": [],
   "source": []
  },
  {
   "cell_type": "code",
   "execution_count": null,
   "id": "d3443b99-e710-4b98-a98f-390cfb5d6cf5",
   "metadata": {},
   "outputs": [],
   "source": []
  },
  {
   "cell_type": "code",
   "execution_count": null,
   "id": "2aa4649f-47e7-4ef2-9a8e-d2487af4d0ca",
   "metadata": {},
   "outputs": [],
   "source": []
  }
 ],
 "metadata": {
  "kernelspec": {
   "display_name": "Python 3 (ipykernel)",
   "language": "python",
   "name": "python3"
  },
  "language_info": {
   "codemirror_mode": {
    "name": "ipython",
    "version": 3
   },
   "file_extension": ".py",
   "mimetype": "text/x-python",
   "name": "python",
   "nbconvert_exporter": "python",
   "pygments_lexer": "ipython3",
   "version": "3.7.16"
  }
 },
 "nbformat": 4,
 "nbformat_minor": 5
}
